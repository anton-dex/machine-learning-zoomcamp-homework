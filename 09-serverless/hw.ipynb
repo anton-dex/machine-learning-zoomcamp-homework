{
 "cells": [
  {
   "cell_type": "code",
   "execution_count": 1,
   "metadata": {},
   "outputs": [
    {
     "name": "stderr",
     "output_type": "stream",
     "text": [
      "2024-12-12 11:03:09.392791: I tensorflow/core/platform/cpu_feature_guard.cc:182] This TensorFlow binary is optimized to use available CPU instructions in performance-critical operations.\n",
      "To enable the following instructions: AVX2 FMA, in other operations, rebuild TensorFlow with the appropriate compiler flags.\n"
     ]
    }
   ],
   "source": [
    "import tensorflow.lite as tflite"
   ]
  },
  {
   "cell_type": "code",
   "execution_count": 2,
   "metadata": {},
   "outputs": [
    {
     "name": "stderr",
     "output_type": "stream",
     "text": [
      "INFO: Created TensorFlow Lite XNNPACK delegate for CPU.\n"
     ]
    }
   ],
   "source": [
    "interpreter = tflite.Interpreter(model_path='clothing-model.tflite')\n",
    "interpreter.allocate_tensors()\n",
    "\n",
    "input_index = interpreter.get_input_details()[0]['index']\n",
    "output_index = interpreter.get_output_details()[0]['index']"
   ]
  },
  {
   "cell_type": "code",
   "execution_count": 3,
   "metadata": {},
   "outputs": [
    {
     "data": {
      "text/plain": [
       "(0, 13)"
      ]
     },
     "execution_count": 3,
     "metadata": {},
     "output_type": "execute_result"
    }
   ],
   "source": [
    "input_index, output_index"
   ]
  },
  {
   "cell_type": "code",
   "execution_count": 17,
   "metadata": {},
   "outputs": [],
   "source": [
    "import numpy as np\n",
    "from PIL import Image"
   ]
  },
  {
   "cell_type": "code",
   "execution_count": null,
   "metadata": {},
   "outputs": [],
   "source": [
    "def preprocess_input(x):\n",
    "    x /= 255.0\n",
    "    return x"
   ]
  },
  {
   "cell_type": "code",
   "execution_count": null,
   "metadata": {},
   "outputs": [],
   "source": [
    "img = Image.open('image.jpg')\n",
    "x = np.array(img, dtype='float32')\n",
    "X = np.array([x])\n",
    "\n",
    "X = preprocess_input(X)"
   ]
  },
  {
   "cell_type": "code",
   "execution_count": 23,
   "metadata": {},
   "outputs": [
    {
     "data": {
      "text/plain": [
       "array([[[[0.27058825, 0.42352942, 0.10588235],\n",
       "         [0.27058825, 0.42352942, 0.10588235],\n",
       "         [0.24705882, 0.40784314, 0.10196079],\n",
       "         ...,\n",
       "         [0.25882354, 0.34901962, 0.        ],\n",
       "         [0.23921569, 0.33333334, 0.        ],\n",
       "         [0.22745098, 0.32156864, 0.        ]],\n",
       "\n",
       "        [[0.24705882, 0.4       , 0.09019608],\n",
       "         [0.2627451 , 0.41568628, 0.10588235],\n",
       "         [0.27058825, 0.41960785, 0.11764706],\n",
       "         ...,\n",
       "         [0.26666668, 0.35686275, 0.        ],\n",
       "         [0.24705882, 0.34117648, 0.00392157],\n",
       "         [0.23529412, 0.32941177, 0.        ]],\n",
       "\n",
       "        [[0.25882354, 0.4       , 0.10980392],\n",
       "         [0.2784314 , 0.41960785, 0.12941177],\n",
       "         [0.2901961 , 0.43137255, 0.14901961],\n",
       "         ...,\n",
       "         [0.24705882, 0.34509805, 0.        ],\n",
       "         [0.23529412, 0.32941177, 0.        ],\n",
       "         [0.22352941, 0.31764707, 0.        ]],\n",
       "\n",
       "        ...,\n",
       "\n",
       "        [[0.10196079, 0.2       , 0.03529412],\n",
       "         [0.11372549, 0.21176471, 0.04705882],\n",
       "         [0.13333334, 0.23529412, 0.05882353],\n",
       "         ...,\n",
       "         [0.87058824, 0.9098039 , 0.90588236],\n",
       "         [0.8745098 , 0.9137255 , 0.9098039 ],\n",
       "         [0.8784314 , 0.91764706, 0.9137255 ]],\n",
       "\n",
       "        [[0.09411765, 0.19215687, 0.03529412],\n",
       "         [0.10196079, 0.2       , 0.03529412],\n",
       "         [0.11764706, 0.21960784, 0.04313726],\n",
       "         ...,\n",
       "         [0.8627451 , 0.9019608 , 0.8980392 ],\n",
       "         [0.85882354, 0.8980392 , 0.89411765],\n",
       "         [0.8509804 , 0.8901961 , 0.8862745 ]],\n",
       "\n",
       "        [[0.08627451, 0.18431373, 0.02745098],\n",
       "         [0.09411765, 0.19215687, 0.02745098],\n",
       "         [0.10588235, 0.20392157, 0.03921569],\n",
       "         ...,\n",
       "         [0.8901961 , 0.92941177, 0.9254902 ],\n",
       "         [0.89411765, 0.93333334, 0.92941177],\n",
       "         [0.8862745 , 0.9254902 , 0.92156863]]]], dtype=float32)"
      ]
     },
     "execution_count": 23,
     "metadata": {},
     "output_type": "execute_result"
    }
   ],
   "source": [
    "X"
   ]
  },
  {
   "cell_type": "code",
   "execution_count": 24,
   "metadata": {},
   "outputs": [],
   "source": [
    "interpreter.set_tensor(input_index, X)\n",
    "interpreter.invoke()\n",
    "preds = interpreter.get_tensor(output_index)"
   ]
  },
  {
   "cell_type": "code",
   "execution_count": 25,
   "metadata": {},
   "outputs": [
    {
     "data": {
      "text/plain": [
       "array([[0.8939239]], dtype=float32)"
      ]
     },
     "execution_count": 25,
     "metadata": {},
     "output_type": "execute_result"
    }
   ],
   "source": [
    "preds"
   ]
  },
  {
   "cell_type": "code",
   "execution_count": null,
   "metadata": {},
   "outputs": [],
   "source": [
    "interpreter_lambda = tflite.Interpreter(model_path='model_2024_hairstyle_v2.tflite')\n",
    "interpreter_lambda.allocate_tensors()\n",
    "input_index = interpreter_lambda.get_input_details()[0]['index']\n",
    "output_index = interpreter_lambda.get_output_details()[0]['index']\n",
    "interpreter_lambda.set_tensor(input_index, X)\n",
    "interpreter_lambda.invoke()\n",
    "preds_l = interpreter_lambda.get_tensor(output_index)\n",
    "preds_l\n",
    "\n",
    "# got array([[0.42771596]], dtype=float32) from container I run locally"
   ]
  }
 ],
 "metadata": {
  "kernelspec": {
   "display_name": "mlz-hw",
   "language": "python",
   "name": "python3"
  },
  "language_info": {
   "codemirror_mode": {
    "name": "ipython",
    "version": 3
   },
   "file_extension": ".py",
   "mimetype": "text/x-python",
   "name": "python",
   "nbconvert_exporter": "python",
   "pygments_lexer": "ipython3",
   "version": "3.11.10"
  }
 },
 "nbformat": 4,
 "nbformat_minor": 2
}
